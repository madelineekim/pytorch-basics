{
  "nbformat": 4,
  "nbformat_minor": 0,
  "metadata": {
    "colab": {
      "provenance": [],
      "gpuType": "T4",
      "authorship_tag": "ABX9TyNYSimFUWcSyBiF0atlxmyR",
      "include_colab_link": true
    },
    "kernelspec": {
      "name": "python3",
      "display_name": "Python 3"
    },
    "language_info": {
      "name": "python"
    },
    "accelerator": "GPU"
  },
  "cells": [
    {
      "cell_type": "markdown",
      "metadata": {
        "id": "view-in-github",
        "colab_type": "text"
      },
      "source": [
        "<a href=\"https://colab.research.google.com/github/madelineekim/pytorch-basics/blob/main/00_pytorch_fudamentals.ipynb\" target=\"_parent\"><img src=\"https://colab.research.google.com/assets/colab-badge.svg\" alt=\"Open In Colab\"/></a>"
      ]
    },
    {
      "cell_type": "code",
      "execution_count": null,
      "metadata": {
        "colab": {
          "base_uri": "https://localhost:8080/"
        },
        "id": "Id-qYwhrMFsl",
        "outputId": "681ada6c-5a33-4aba-9608-3d6365ebc7cc"
      },
      "outputs": [
        {
          "output_type": "stream",
          "name": "stdout",
          "text": [
            "2.5.1+cu124\n"
          ]
        }
      ],
      "source": [
        "import torch\n",
        "import pandas as pd\n",
        "import numpy as np\n",
        "import matplotlib.pyplot as plt\n",
        "\n",
        "print(torch.__version__)"
      ]
    },
    {
      "cell_type": "markdown",
      "source": [
        "Creating Tensors"
      ],
      "metadata": {
        "id": "7Mf30ptwV4g8"
      }
    },
    {
      "cell_type": "code",
      "source": [
        "# scalar\n",
        "scalar = torch.tensor(7)\n",
        "scalar"
      ],
      "metadata": {
        "colab": {
          "base_uri": "https://localhost:8080/"
        },
        "id": "MyjonEccV7nF",
        "outputId": "c07f06ab-0fa9-4703-909f-86cb051ea35c"
      },
      "execution_count": null,
      "outputs": [
        {
          "output_type": "execute_result",
          "data": {
            "text/plain": [
              "tensor(7)"
            ]
          },
          "metadata": {},
          "execution_count": 2
        }
      ]
    },
    {
      "cell_type": "code",
      "source": [
        "scalar.ndim"
      ],
      "metadata": {
        "colab": {
          "base_uri": "https://localhost:8080/"
        },
        "id": "Kz-f6pYlXPOU",
        "outputId": "974c85b6-a3ee-4564-d915-9d83a185d6c8"
      },
      "execution_count": null,
      "outputs": [
        {
          "output_type": "execute_result",
          "data": {
            "text/plain": [
              "0"
            ]
          },
          "metadata": {},
          "execution_count": 3
        }
      ]
    },
    {
      "cell_type": "code",
      "source": [
        "scalar.item()"
      ],
      "metadata": {
        "colab": {
          "base_uri": "https://localhost:8080/"
        },
        "id": "q6rk9yDmXRCS",
        "outputId": "86567815-e151-4075-89c7-2f139de66d88"
      },
      "execution_count": null,
      "outputs": [
        {
          "output_type": "execute_result",
          "data": {
            "text/plain": [
              "7"
            ]
          },
          "metadata": {},
          "execution_count": 4
        }
      ]
    },
    {
      "cell_type": "code",
      "source": [
        "vector = torch.tensor([7, 7])\n",
        "vector"
      ],
      "metadata": {
        "colab": {
          "base_uri": "https://localhost:8080/"
        },
        "id": "66HkKHpSXnxR",
        "outputId": "75743cb1-21b8-4a5f-c245-9ce96c2321df"
      },
      "execution_count": null,
      "outputs": [
        {
          "output_type": "execute_result",
          "data": {
            "text/plain": [
              "tensor([7, 7])"
            ]
          },
          "metadata": {},
          "execution_count": 5
        }
      ]
    },
    {
      "cell_type": "code",
      "source": [
        "vector.shape"
      ],
      "metadata": {
        "colab": {
          "base_uri": "https://localhost:8080/"
        },
        "id": "geRuCxQ6aBmL",
        "outputId": "ceb2c246-1420-4d8c-bba7-4a1aba6d56c9"
      },
      "execution_count": null,
      "outputs": [
        {
          "output_type": "execute_result",
          "data": {
            "text/plain": [
              "torch.Size([2])"
            ]
          },
          "metadata": {},
          "execution_count": 6
        }
      ]
    },
    {
      "cell_type": "code",
      "source": [
        "MATRIX = torch.tensor([[7,8],\n",
        "                      [9,10]])\n",
        "MATRIX"
      ],
      "metadata": {
        "colab": {
          "base_uri": "https://localhost:8080/"
        },
        "id": "dNSkyfGmaM6Y",
        "outputId": "391a6446-c20a-4462-e84e-b7acf41f090a"
      },
      "execution_count": null,
      "outputs": [
        {
          "output_type": "execute_result",
          "data": {
            "text/plain": [
              "tensor([[ 7,  8],\n",
              "        [ 9, 10]])"
            ]
          },
          "metadata": {},
          "execution_count": 7
        }
      ]
    },
    {
      "cell_type": "code",
      "source": [
        "MATRIX.ndim"
      ],
      "metadata": {
        "colab": {
          "base_uri": "https://localhost:8080/"
        },
        "id": "UqzCtvXVcmBQ",
        "outputId": "0092a9a8-1700-4bcf-b269-77949e432d6f"
      },
      "execution_count": null,
      "outputs": [
        {
          "output_type": "execute_result",
          "data": {
            "text/plain": [
              "2"
            ]
          },
          "metadata": {},
          "execution_count": 8
        }
      ]
    },
    {
      "cell_type": "code",
      "source": [
        "MATRIX[0]"
      ],
      "metadata": {
        "colab": {
          "base_uri": "https://localhost:8080/"
        },
        "id": "GI-oZCJJcq3x",
        "outputId": "e52703f5-9d55-4a11-ce11-afa9aa1d8c2b"
      },
      "execution_count": null,
      "outputs": [
        {
          "output_type": "execute_result",
          "data": {
            "text/plain": [
              "tensor([7, 8])"
            ]
          },
          "metadata": {},
          "execution_count": 9
        }
      ]
    },
    {
      "cell_type": "code",
      "source": [
        "MATRIX[1]"
      ],
      "metadata": {
        "colab": {
          "base_uri": "https://localhost:8080/"
        },
        "id": "NDDiL7j-cxnY",
        "outputId": "2069338f-eda0-40ba-cc15-c0a6fc5b2912"
      },
      "execution_count": null,
      "outputs": [
        {
          "output_type": "execute_result",
          "data": {
            "text/plain": [
              "tensor([ 9, 10])"
            ]
          },
          "metadata": {},
          "execution_count": 10
        }
      ]
    },
    {
      "cell_type": "code",
      "source": [
        "MATRIX.shape"
      ],
      "metadata": {
        "colab": {
          "base_uri": "https://localhost:8080/"
        },
        "id": "UVrYHQTLc9LR",
        "outputId": "6b209cfb-a5fe-426b-a93d-943a4fc9f416"
      },
      "execution_count": null,
      "outputs": [
        {
          "output_type": "execute_result",
          "data": {
            "text/plain": [
              "torch.Size([2, 2])"
            ]
          },
          "metadata": {},
          "execution_count": 11
        }
      ]
    },
    {
      "cell_type": "code",
      "source": [
        "TENSOR = torch.tensor([[[1, 2, 3],\n",
        "                        [4, 5, 6],\n",
        "                        [7, 8, 9]]])\n",
        "TENSOR"
      ],
      "metadata": {
        "colab": {
          "base_uri": "https://localhost:8080/"
        },
        "id": "2LvYc3n0dKkQ",
        "outputId": "2e8c249d-40f7-4e2a-912a-9fec85e3b7ff"
      },
      "execution_count": null,
      "outputs": [
        {
          "output_type": "execute_result",
          "data": {
            "text/plain": [
              "tensor([[[1, 2, 3],\n",
              "         [4, 5, 6],\n",
              "         [7, 8, 9]]])"
            ]
          },
          "metadata": {},
          "execution_count": 12
        }
      ]
    },
    {
      "cell_type": "code",
      "source": [
        "TENSOR.ndim"
      ],
      "metadata": {
        "colab": {
          "base_uri": "https://localhost:8080/"
        },
        "id": "dJ7nuHjpdgl8",
        "outputId": "f9caf740-c8d2-4c39-a666-17c6251b490b"
      },
      "execution_count": null,
      "outputs": [
        {
          "output_type": "execute_result",
          "data": {
            "text/plain": [
              "3"
            ]
          },
          "metadata": {},
          "execution_count": 13
        }
      ]
    },
    {
      "cell_type": "code",
      "source": [
        "TENSOR.shape"
      ],
      "metadata": {
        "colab": {
          "base_uri": "https://localhost:8080/"
        },
        "id": "ndl2YjFydvGW",
        "outputId": "b05738b5-fde9-4872-d178-60835bc2c5e2"
      },
      "execution_count": null,
      "outputs": [
        {
          "output_type": "execute_result",
          "data": {
            "text/plain": [
              "torch.Size([1, 3, 3])"
            ]
          },
          "metadata": {},
          "execution_count": 14
        }
      ]
    },
    {
      "cell_type": "code",
      "source": [
        "TENSOR[0]"
      ],
      "metadata": {
        "colab": {
          "base_uri": "https://localhost:8080/"
        },
        "id": "Kd3LdWlFfS1h",
        "outputId": "4421eda1-03fb-4894-ebca-67a0c8595a7c"
      },
      "execution_count": null,
      "outputs": [
        {
          "output_type": "execute_result",
          "data": {
            "text/plain": [
              "tensor([[1, 2, 3],\n",
              "        [4, 5, 6],\n",
              "        [7, 8, 9]])"
            ]
          },
          "metadata": {},
          "execution_count": 15
        }
      ]
    },
    {
      "cell_type": "markdown",
      "source": [
        "Random Tensors"
      ],
      "metadata": {
        "id": "Yt6xqL-2geZt"
      }
    },
    {
      "cell_type": "code",
      "source": [
        "random_tensor = torch.rand(3, 4)\n",
        "random_tensor"
      ],
      "metadata": {
        "colab": {
          "base_uri": "https://localhost:8080/"
        },
        "id": "Ca7OtjtGgfd3",
        "outputId": "08617f11-a63f-4e93-947b-0dc5c2e275b2"
      },
      "execution_count": null,
      "outputs": [
        {
          "output_type": "execute_result",
          "data": {
            "text/plain": [
              "tensor([[0.9175, 0.3589, 0.1742, 0.6258],\n",
              "        [0.4739, 0.2182, 0.3363, 0.2190],\n",
              "        [0.0698, 0.0488, 0.9741, 0.4739]])"
            ]
          },
          "metadata": {},
          "execution_count": 16
        }
      ]
    },
    {
      "cell_type": "code",
      "source": [
        "random_image_size_tensor = torch.rand(size=(224, 224, 3))\n",
        "random_image_size_tensor.shape, random_image_size_tensor.ndim"
      ],
      "metadata": {
        "colab": {
          "base_uri": "https://localhost:8080/"
        },
        "id": "4B65NVK4j1RO",
        "outputId": "ba64b012-9127-40ef-b2d7-156655f99f65"
      },
      "execution_count": null,
      "outputs": [
        {
          "output_type": "execute_result",
          "data": {
            "text/plain": [
              "(torch.Size([224, 224, 3]), 3)"
            ]
          },
          "metadata": {},
          "execution_count": 17
        }
      ]
    },
    {
      "cell_type": "markdown",
      "source": [
        "Zeroes and Ones"
      ],
      "metadata": {
        "id": "vJvMH39ak4Zt"
      }
    },
    {
      "cell_type": "code",
      "source": [
        "zeros = torch.zeros(3,4)\n",
        "zeros"
      ],
      "metadata": {
        "colab": {
          "base_uri": "https://localhost:8080/"
        },
        "id": "0yL0lTeFk8KG",
        "outputId": "4d009a30-28a3-4aad-bf6b-cf86f54366d8"
      },
      "execution_count": null,
      "outputs": [
        {
          "output_type": "execute_result",
          "data": {
            "text/plain": [
              "tensor([[0., 0., 0., 0.],\n",
              "        [0., 0., 0., 0.],\n",
              "        [0., 0., 0., 0.]])"
            ]
          },
          "metadata": {},
          "execution_count": 18
        }
      ]
    },
    {
      "cell_type": "code",
      "source": [
        "ones = torch.ones(3,4)\n",
        "ones"
      ],
      "metadata": {
        "colab": {
          "base_uri": "https://localhost:8080/"
        },
        "id": "MH6SQKDSl2Yu",
        "outputId": "e537841b-fd2f-4fb4-eb34-2921143adb2a"
      },
      "execution_count": null,
      "outputs": [
        {
          "output_type": "execute_result",
          "data": {
            "text/plain": [
              "tensor([[1., 1., 1., 1.],\n",
              "        [1., 1., 1., 1.],\n",
              "        [1., 1., 1., 1.]])"
            ]
          },
          "metadata": {},
          "execution_count": 19
        }
      ]
    },
    {
      "cell_type": "markdown",
      "source": [
        "Range of tensors and tensors-like"
      ],
      "metadata": {
        "id": "9QCfC7f7mRXQ"
      }
    },
    {
      "cell_type": "code",
      "source": [
        "one_to_ten = torch.arange(0,10)\n",
        "one_to_ten"
      ],
      "metadata": {
        "colab": {
          "base_uri": "https://localhost:8080/"
        },
        "id": "nAEnXvu9mTdP",
        "outputId": "a397d2ba-2e39-42e4-dcf3-421e95d68b6a"
      },
      "execution_count": null,
      "outputs": [
        {
          "output_type": "execute_result",
          "data": {
            "text/plain": [
              "tensor([0, 1, 2, 3, 4, 5, 6, 7, 8, 9])"
            ]
          },
          "metadata": {},
          "execution_count": 20
        }
      ]
    },
    {
      "cell_type": "code",
      "source": [
        "ten_zeros= torch.zeros_like(input=one_to_ten)\n",
        "ten_zeros"
      ],
      "metadata": {
        "colab": {
          "base_uri": "https://localhost:8080/"
        },
        "id": "nDV6saDXmppa",
        "outputId": "2eaa8274-55da-4f9f-efe0-160c2e6087e7"
      },
      "execution_count": null,
      "outputs": [
        {
          "output_type": "execute_result",
          "data": {
            "text/plain": [
              "tensor([0, 0, 0, 0, 0, 0, 0, 0, 0, 0])"
            ]
          },
          "metadata": {},
          "execution_count": 21
        }
      ]
    },
    {
      "cell_type": "markdown",
      "source": [
        "Tensor datatypes! (common point of error in Pytorch and deep learning)\n",
        "\n",
        "The three common errors:\n",
        "1. Tensors are wrong type\n",
        "2. Tensors are wrong shape\n",
        "3. Tensors not on right device"
      ],
      "metadata": {
        "id": "cdXl6iiDrA1d"
      }
    },
    {
      "cell_type": "code",
      "source": [
        "float_32_tensor = torch.tensor([3.0, 6.0, 9.0],\n",
        "                               dtype=torch.float32, #datatype\n",
        "                               device=None, #what device\n",
        "                               requires_grad=False) #does it track gradients\n",
        "float_32_tensor"
      ],
      "metadata": {
        "colab": {
          "base_uri": "https://localhost:8080/"
        },
        "id": "q1wMexgppCjn",
        "outputId": "11cec24e-8366-43a6-f095-4028046d1234"
      },
      "execution_count": null,
      "outputs": [
        {
          "output_type": "execute_result",
          "data": {
            "text/plain": [
              "tensor([3., 6., 9.])"
            ]
          },
          "metadata": {},
          "execution_count": 22
        }
      ]
    },
    {
      "cell_type": "code",
      "source": [
        "float_32_tensor.dtype"
      ],
      "metadata": {
        "colab": {
          "base_uri": "https://localhost:8080/"
        },
        "id": "oeRPPdr2pU8K",
        "outputId": "c3d7265b-bc1d-4337-e089-ebd7ab64550b"
      },
      "execution_count": null,
      "outputs": [
        {
          "output_type": "execute_result",
          "data": {
            "text/plain": [
              "torch.float32"
            ]
          },
          "metadata": {},
          "execution_count": 23
        }
      ]
    },
    {
      "cell_type": "code",
      "source": [
        "float_16_tensor = float_32_tensor.type(torch.float16)\n",
        "float_16_tensor"
      ],
      "metadata": {
        "colab": {
          "base_uri": "https://localhost:8080/"
        },
        "id": "uzddY_PWtzwr",
        "outputId": "0185a45f-8a74-41a7-97f8-8c8ac3fcc67d"
      },
      "execution_count": null,
      "outputs": [
        {
          "output_type": "execute_result",
          "data": {
            "text/plain": [
              "tensor([3., 6., 9.], dtype=torch.float16)"
            ]
          },
          "metadata": {},
          "execution_count": 24
        }
      ]
    },
    {
      "cell_type": "code",
      "source": [
        "float_16_tensor * float_32_tensor"
      ],
      "metadata": {
        "colab": {
          "base_uri": "https://localhost:8080/"
        },
        "id": "qv0WB_MQg3yJ",
        "outputId": "b7c65879-ef38-4113-db51-cf6edf9c0179"
      },
      "execution_count": null,
      "outputs": [
        {
          "output_type": "execute_result",
          "data": {
            "text/plain": [
              "tensor([ 9., 36., 81.])"
            ]
          },
          "metadata": {},
          "execution_count": 25
        }
      ]
    },
    {
      "cell_type": "code",
      "source": [
        "some_tensor = torch.rand(3, 4)\n",
        "some_tensor"
      ],
      "metadata": {
        "colab": {
          "base_uri": "https://localhost:8080/"
        },
        "id": "JT1V6B-QhKho",
        "outputId": "12936eb5-48d6-4784-96c8-331a505419eb"
      },
      "execution_count": null,
      "outputs": [
        {
          "output_type": "execute_result",
          "data": {
            "text/plain": [
              "tensor([[0.8731, 0.3015, 0.0404, 0.2683],\n",
              "        [0.5263, 0.6901, 0.4543, 0.6656],\n",
              "        [0.3178, 0.6523, 0.0876, 0.0736]])"
            ]
          },
          "metadata": {},
          "execution_count": 26
        }
      ]
    },
    {
      "cell_type": "code",
      "source": [
        "print(some_tensor)\n",
        "print(f\"Datatype: {some_tensor.dtype}\")\n",
        "print(f\"Shape: {some_tensor.shape}\")\n",
        "print(f\"Device: {some_tensor.device}\")"
      ],
      "metadata": {
        "colab": {
          "base_uri": "https://localhost:8080/"
        },
        "id": "5bVVWy_aiX40",
        "outputId": "690f44e8-8ddc-42e5-d3a6-09d4e6a7887e"
      },
      "execution_count": null,
      "outputs": [
        {
          "output_type": "stream",
          "name": "stdout",
          "text": [
            "tensor([[0.8731, 0.3015, 0.0404, 0.2683],\n",
            "        [0.5263, 0.6901, 0.4543, 0.6656],\n",
            "        [0.3178, 0.6523, 0.0876, 0.0736]])\n",
            "Datatype: torch.float32\n",
            "Shape: torch.Size([3, 4])\n",
            "Device: cpu\n"
          ]
        }
      ]
    },
    {
      "cell_type": "markdown",
      "source": [
        "Tensor operations include:\n",
        "Addition, Subtraction, Multiplication, Division, Matrix multiplication"
      ],
      "metadata": {
        "id": "IZfnVYEGjMXF"
      }
    },
    {
      "cell_type": "code",
      "source": [
        "tensor = torch.tensor([1, 2, 3])\n",
        "tensor + 10"
      ],
      "metadata": {
        "colab": {
          "base_uri": "https://localhost:8080/"
        },
        "id": "6PdGjQOxjX7d",
        "outputId": "a488ed70-5cfa-4ec3-a36c-8c9dd179df30"
      },
      "execution_count": null,
      "outputs": [
        {
          "output_type": "execute_result",
          "data": {
            "text/plain": [
              "tensor([11, 12, 13])"
            ]
          },
          "metadata": {},
          "execution_count": 28
        }
      ]
    },
    {
      "cell_type": "code",
      "source": [
        "tensor * 10"
      ],
      "metadata": {
        "colab": {
          "base_uri": "https://localhost:8080/"
        },
        "id": "CjmAEnTSjm6E",
        "outputId": "c07488e8-8726-4956-a60d-0ccd715b6d3a"
      },
      "execution_count": null,
      "outputs": [
        {
          "output_type": "execute_result",
          "data": {
            "text/plain": [
              "tensor([10, 20, 30])"
            ]
          },
          "metadata": {},
          "execution_count": 29
        }
      ]
    },
    {
      "cell_type": "code",
      "source": [
        "tensor - 10"
      ],
      "metadata": {
        "colab": {
          "base_uri": "https://localhost:8080/"
        },
        "id": "1c5TaMMPkHx-",
        "outputId": "e7d0e1f6-0a84-4597-ebaa-1b31c528ac8a"
      },
      "execution_count": null,
      "outputs": [
        {
          "output_type": "execute_result",
          "data": {
            "text/plain": [
              "tensor([-9, -8, -7])"
            ]
          },
          "metadata": {},
          "execution_count": 30
        }
      ]
    },
    {
      "cell_type": "code",
      "source": [
        "torch.mul(tensor, 10)"
      ],
      "metadata": {
        "colab": {
          "base_uri": "https://localhost:8080/"
        },
        "id": "BltG4L-SlACW",
        "outputId": "1b5148fd-4951-4c6f-d0e0-9b6ad90ddb8d"
      },
      "execution_count": null,
      "outputs": [
        {
          "output_type": "execute_result",
          "data": {
            "text/plain": [
              "tensor([10, 20, 30])"
            ]
          },
          "metadata": {},
          "execution_count": 31
        }
      ]
    },
    {
      "cell_type": "code",
      "source": [
        "torch.add(tensor, 10)"
      ],
      "metadata": {
        "colab": {
          "base_uri": "https://localhost:8080/"
        },
        "id": "e-aXxtZglS03",
        "outputId": "d98fc062-da3b-48e3-cbdb-6515a3c6e516"
      },
      "execution_count": null,
      "outputs": [
        {
          "output_type": "execute_result",
          "data": {
            "text/plain": [
              "tensor([11, 12, 13])"
            ]
          },
          "metadata": {},
          "execution_count": 32
        }
      ]
    },
    {
      "cell_type": "code",
      "source": [
        "tensor / 10"
      ],
      "metadata": {
        "colab": {
          "base_uri": "https://localhost:8080/"
        },
        "id": "R_5B5onMlZII",
        "outputId": "4ef39d25-fe73-4f10-c6b2-bb453bb318bf"
      },
      "execution_count": null,
      "outputs": [
        {
          "output_type": "execute_result",
          "data": {
            "text/plain": [
              "tensor([0.1000, 0.2000, 0.3000])"
            ]
          },
          "metadata": {},
          "execution_count": 33
        }
      ]
    },
    {
      "cell_type": "markdown",
      "source": [
        "Matrix Multiplication\n",
        "\n",
        "The inner dimensions must match (cols of first and rows of second)\n",
        "The resulting matrix has the shape of the outer dimensions"
      ],
      "metadata": {
        "id": "bR2hRggS0HGD"
      }
    },
    {
      "cell_type": "code",
      "source": [
        "# Element wise multiplication\n",
        "tensor * tensor"
      ],
      "metadata": {
        "colab": {
          "base_uri": "https://localhost:8080/"
        },
        "id": "FEgZ54TG0LSb",
        "outputId": "b4286e3a-7be2-4954-af9a-eeb0f1406bca"
      },
      "execution_count": null,
      "outputs": [
        {
          "output_type": "execute_result",
          "data": {
            "text/plain": [
              "tensor([1, 4, 9])"
            ]
          },
          "metadata": {},
          "execution_count": 34
        }
      ]
    },
    {
      "cell_type": "code",
      "source": [
        "torch.matmul(tensor, tensor)"
      ],
      "metadata": {
        "colab": {
          "base_uri": "https://localhost:8080/"
        },
        "id": "2I28yaHY1j6u",
        "outputId": "241f7cfb-0fc6-45ac-c5c9-40307355fda8"
      },
      "execution_count": null,
      "outputs": [
        {
          "output_type": "execute_result",
          "data": {
            "text/plain": [
              "tensor(14)"
            ]
          },
          "metadata": {},
          "execution_count": 35
        }
      ]
    },
    {
      "cell_type": "code",
      "source": [
        "new_tensor = torch.rand(3, 4)\n",
        "new_tensor2 = torch.rand(4, 3)\n",
        "torch.mm(new_tensor, new_tensor2)"
      ],
      "metadata": {
        "colab": {
          "base_uri": "https://localhost:8080/"
        },
        "id": "vMCtyW6J3xKX",
        "outputId": "301c0783-ecf5-4d14-af22-a3f543537bb9"
      },
      "execution_count": null,
      "outputs": [
        {
          "output_type": "execute_result",
          "data": {
            "text/plain": [
              "tensor([[2.2238, 1.9533, 2.1127],\n",
              "        [1.6799, 1.1907, 1.8809],\n",
              "        [2.2731, 1.8479, 2.3582]])"
            ]
          },
          "metadata": {},
          "execution_count": 36
        }
      ]
    },
    {
      "cell_type": "markdown",
      "source": [
        "To fix tensor shapes, we can manipulate the shape of one of them using a transpose.\n",
        "\n",
        "A transpose switches the axes of a given tensor"
      ],
      "metadata": {
        "id": "4En4i8mS7KRJ"
      }
    },
    {
      "cell_type": "code",
      "source": [
        "tensor_wrong = torch.rand(3,4)\n",
        "tensor_wrong"
      ],
      "metadata": {
        "colab": {
          "base_uri": "https://localhost:8080/"
        },
        "id": "4Sqctwxc7Utm",
        "outputId": "5582f694-6c5d-4c47-894a-0f2070dd7993"
      },
      "execution_count": null,
      "outputs": [
        {
          "output_type": "execute_result",
          "data": {
            "text/plain": [
              "tensor([[0.5144, 0.5430, 0.9576, 0.4490],\n",
              "        [0.5912, 0.3983, 0.6535, 0.3164],\n",
              "        [0.0448, 0.6838, 0.8653, 0.1934]])"
            ]
          },
          "metadata": {},
          "execution_count": 37
        }
      ]
    },
    {
      "cell_type": "code",
      "source": [
        "tensor_wrong.T"
      ],
      "metadata": {
        "colab": {
          "base_uri": "https://localhost:8080/"
        },
        "id": "-nQaFCdL7cX3",
        "outputId": "0bd3e266-8138-43d2-e281-898fa0ef7c2e"
      },
      "execution_count": null,
      "outputs": [
        {
          "output_type": "execute_result",
          "data": {
            "text/plain": [
              "tensor([[0.5144, 0.5912, 0.0448],\n",
              "        [0.5430, 0.3983, 0.6838],\n",
              "        [0.9576, 0.6535, 0.8653],\n",
              "        [0.4490, 0.3164, 0.1934]])"
            ]
          },
          "metadata": {},
          "execution_count": 38
        }
      ]
    },
    {
      "cell_type": "code",
      "source": [
        "torch.mm(tensor_wrong.T, new_tensor)"
      ],
      "metadata": {
        "colab": {
          "base_uri": "https://localhost:8080/"
        },
        "id": "o8rFawK08XT9",
        "outputId": "dd72a139-b37a-42f4-a1f8-5220292989fe"
      },
      "execution_count": null,
      "outputs": [
        {
          "output_type": "execute_result",
          "data": {
            "text/plain": [
              "tensor([[0.5955, 1.0626, 0.4958, 0.8379],\n",
              "        [0.6970, 1.3446, 1.0842, 1.3438],\n",
              "        [1.0373, 2.1005, 1.6028, 2.0149],\n",
              "        [0.4038, 0.8522, 0.5609, 0.7495]])"
            ]
          },
          "metadata": {},
          "execution_count": 39
        }
      ]
    },
    {
      "cell_type": "markdown",
      "source": [
        "Tensor aggregation"
      ],
      "metadata": {
        "id": "1ZJJy_JgODeU"
      }
    },
    {
      "cell_type": "code",
      "source": [
        "x = torch.arange(0, 100, 10)\n",
        "x"
      ],
      "metadata": {
        "colab": {
          "base_uri": "https://localhost:8080/"
        },
        "id": "gaBafVQ9OE8Q",
        "outputId": "d752308b-a4aa-4f22-b7a6-12dee34bee02"
      },
      "execution_count": null,
      "outputs": [
        {
          "output_type": "execute_result",
          "data": {
            "text/plain": [
              "tensor([ 0, 10, 20, 30, 40, 50, 60, 70, 80, 90])"
            ]
          },
          "metadata": {},
          "execution_count": 40
        }
      ]
    },
    {
      "cell_type": "code",
      "source": [
        "torch.min(x), x.min()"
      ],
      "metadata": {
        "colab": {
          "base_uri": "https://localhost:8080/"
        },
        "id": "RbY_WDqQOShZ",
        "outputId": "dee46173-d219-45db-fc07-03020d908152"
      },
      "execution_count": null,
      "outputs": [
        {
          "output_type": "execute_result",
          "data": {
            "text/plain": [
              "(tensor(0), tensor(0))"
            ]
          },
          "metadata": {},
          "execution_count": 41
        }
      ]
    },
    {
      "cell_type": "code",
      "source": [
        "torch.max(x), x.max()"
      ],
      "metadata": {
        "colab": {
          "base_uri": "https://localhost:8080/"
        },
        "id": "vG0HoyDyOXmb",
        "outputId": "e65f6097-4cbc-4d34-fc5f-c6f2bc5c62e2"
      },
      "execution_count": null,
      "outputs": [
        {
          "output_type": "execute_result",
          "data": {
            "text/plain": [
              "(tensor(90), tensor(90))"
            ]
          },
          "metadata": {},
          "execution_count": 42
        }
      ]
    },
    {
      "cell_type": "code",
      "source": [
        "torch.mean(x.type(torch.float32))"
      ],
      "metadata": {
        "colab": {
          "base_uri": "https://localhost:8080/"
        },
        "id": "B8N4nY1mOdRG",
        "outputId": "dbdcde94-177f-4821-ca05-b04abf17ac78"
      },
      "execution_count": null,
      "outputs": [
        {
          "output_type": "execute_result",
          "data": {
            "text/plain": [
              "tensor(45.)"
            ]
          },
          "metadata": {},
          "execution_count": 43
        }
      ]
    },
    {
      "cell_type": "code",
      "source": [
        "torch.sum(x), x.sum()"
      ],
      "metadata": {
        "colab": {
          "base_uri": "https://localhost:8080/"
        },
        "id": "KzP3tdW9PUfO",
        "outputId": "6c6b3479-169e-4563-e755-38868fab8169"
      },
      "execution_count": null,
      "outputs": [
        {
          "output_type": "execute_result",
          "data": {
            "text/plain": [
              "(tensor(450), tensor(450))"
            ]
          },
          "metadata": {},
          "execution_count": 44
        }
      ]
    },
    {
      "cell_type": "markdown",
      "source": [
        "Finding positional min max"
      ],
      "metadata": {
        "id": "p1-f-OppP4ov"
      }
    },
    {
      "cell_type": "code",
      "source": [
        "x.argmin()"
      ],
      "metadata": {
        "colab": {
          "base_uri": "https://localhost:8080/"
        },
        "id": "-2RBDB25PzdI",
        "outputId": "0b89dbe5-0eab-4340-cbaa-0d0f7e03fb10"
      },
      "execution_count": null,
      "outputs": [
        {
          "output_type": "execute_result",
          "data": {
            "text/plain": [
              "tensor(0)"
            ]
          },
          "metadata": {},
          "execution_count": 45
        }
      ]
    },
    {
      "cell_type": "code",
      "source": [
        "x.argmax()"
      ],
      "metadata": {
        "colab": {
          "base_uri": "https://localhost:8080/"
        },
        "id": "DZyY3EYXP2H5",
        "outputId": "bda7579a-f984-4325-b384-f720ae5be9c6"
      },
      "execution_count": null,
      "outputs": [
        {
          "output_type": "execute_result",
          "data": {
            "text/plain": [
              "tensor(9)"
            ]
          },
          "metadata": {},
          "execution_count": 46
        }
      ]
    },
    {
      "cell_type": "markdown",
      "source": [
        "Reshaping, stacking, squeezing, and unsqueezing tensors\n",
        "* Reshaping - reshapes an input tensor\n",
        "* View - return a view of an input tensor without modifying it\n",
        "* Stacking - combine multiple tensors on top (vstack) or side by side (hstack)\n",
        "* Squeeze - removes all 1 dimensions from a tensor\n",
        "* Unsqueeze - add a 1 dimension to a target tensor\n",
        "* Permute - return a view of the input with dimensions permuted (swapped) in a way"
      ],
      "metadata": {
        "id": "fC7EHF6vQbWx"
      }
    },
    {
      "cell_type": "code",
      "source": [
        "import torch\n",
        "x = torch.arange(1., 10.)\n",
        "x, x.shape"
      ],
      "metadata": {
        "colab": {
          "base_uri": "https://localhost:8080/"
        },
        "id": "kNISureLRs1Z",
        "outputId": "324e28db-dbe8-4f3b-82c8-8f8e37b29ae1"
      },
      "execution_count": null,
      "outputs": [
        {
          "output_type": "execute_result",
          "data": {
            "text/plain": [
              "(tensor([1., 2., 3., 4., 5., 6., 7., 8., 9.]), torch.Size([9]))"
            ]
          },
          "metadata": {},
          "execution_count": 47
        }
      ]
    },
    {
      "cell_type": "code",
      "source": [
        "x_reshaped = x.reshape((9, 1))\n",
        "x_reshaped, x_reshaped.shape"
      ],
      "metadata": {
        "colab": {
          "base_uri": "https://localhost:8080/"
        },
        "id": "bT0rnE2uSKt-",
        "outputId": "258a5054-5484-472d-db2b-303cf450d1d5"
      },
      "execution_count": null,
      "outputs": [
        {
          "output_type": "execute_result",
          "data": {
            "text/plain": [
              "(tensor([[1.],\n",
              "         [2.],\n",
              "         [3.],\n",
              "         [4.],\n",
              "         [5.],\n",
              "         [6.],\n",
              "         [7.],\n",
              "         [8.],\n",
              "         [9.]]),\n",
              " torch.Size([9, 1]))"
            ]
          },
          "metadata": {},
          "execution_count": 48
        }
      ]
    },
    {
      "cell_type": "code",
      "source": [
        "z = x.view(1, 9)\n",
        "z, z.shape"
      ],
      "metadata": {
        "colab": {
          "base_uri": "https://localhost:8080/"
        },
        "id": "pehDEeyFSr65",
        "outputId": "1c55be2f-073e-45fc-9d4c-91899f200ec7"
      },
      "execution_count": null,
      "outputs": [
        {
          "output_type": "execute_result",
          "data": {
            "text/plain": [
              "(tensor([[1., 2., 3., 4., 5., 6., 7., 8., 9.]]), torch.Size([1, 9]))"
            ]
          },
          "metadata": {},
          "execution_count": 49
        }
      ]
    },
    {
      "cell_type": "code",
      "source": [
        "x_stacked = torch.stack([x, x, x, x], dim=1)\n",
        "x_stacked"
      ],
      "metadata": {
        "colab": {
          "base_uri": "https://localhost:8080/"
        },
        "id": "cO-6LBMXTIzq",
        "outputId": "291c0fd9-19cf-42a6-ffc4-26ed705521f3"
      },
      "execution_count": null,
      "outputs": [
        {
          "output_type": "execute_result",
          "data": {
            "text/plain": [
              "tensor([[1., 1., 1., 1.],\n",
              "        [2., 2., 2., 2.],\n",
              "        [3., 3., 3., 3.],\n",
              "        [4., 4., 4., 4.],\n",
              "        [5., 5., 5., 5.],\n",
              "        [6., 6., 6., 6.],\n",
              "        [7., 7., 7., 7.],\n",
              "        [8., 8., 8., 8.],\n",
              "        [9., 9., 9., 9.]])"
            ]
          },
          "metadata": {},
          "execution_count": 50
        }
      ]
    },
    {
      "cell_type": "code",
      "source": [
        "x_reshaped"
      ],
      "metadata": {
        "colab": {
          "base_uri": "https://localhost:8080/"
        },
        "id": "0hhwyRSY8hAb",
        "outputId": "cc52dac0-1cca-4faa-82c7-dc2c7d35084e"
      },
      "execution_count": null,
      "outputs": [
        {
          "output_type": "execute_result",
          "data": {
            "text/plain": [
              "tensor([[1.],\n",
              "        [2.],\n",
              "        [3.],\n",
              "        [4.],\n",
              "        [5.],\n",
              "        [6.],\n",
              "        [7.],\n",
              "        [8.],\n",
              "        [9.]])"
            ]
          },
          "metadata": {},
          "execution_count": 51
        }
      ]
    },
    {
      "cell_type": "code",
      "source": [
        "x_reshaped.shape"
      ],
      "metadata": {
        "id": "eVOQXCN2UkHH",
        "colab": {
          "base_uri": "https://localhost:8080/"
        },
        "outputId": "b450226f-6514-43d3-85f6-3cb1551942f4"
      },
      "execution_count": null,
      "outputs": [
        {
          "output_type": "execute_result",
          "data": {
            "text/plain": [
              "torch.Size([9, 1])"
            ]
          },
          "metadata": {},
          "execution_count": 52
        }
      ]
    },
    {
      "cell_type": "code",
      "source": [
        "x_squeezed = x_reshaped.squeeze()\n",
        "x_squeezed"
      ],
      "metadata": {
        "colab": {
          "base_uri": "https://localhost:8080/"
        },
        "id": "ulHpWlU98W8c",
        "outputId": "80470915-2a68-46d4-cf49-1bd2537fe1e0"
      },
      "execution_count": null,
      "outputs": [
        {
          "output_type": "execute_result",
          "data": {
            "text/plain": [
              "tensor([1., 2., 3., 4., 5., 6., 7., 8., 9.])"
            ]
          },
          "metadata": {},
          "execution_count": 53
        }
      ]
    },
    {
      "cell_type": "code",
      "source": [
        "x_reshaped.squeeze().shape"
      ],
      "metadata": {
        "colab": {
          "base_uri": "https://localhost:8080/"
        },
        "id": "JjCnefRC8ZTM",
        "outputId": "c24b0d95-ff90-4243-b24b-abe4db3c0a6a"
      },
      "execution_count": null,
      "outputs": [
        {
          "output_type": "execute_result",
          "data": {
            "text/plain": [
              "torch.Size([9])"
            ]
          },
          "metadata": {},
          "execution_count": 54
        }
      ]
    },
    {
      "cell_type": "code",
      "source": [
        "x_unsqueezed = x_squeezed.unsqueeze(dim=1)\n",
        "x_unsqueezed, x_unsqueezed.shape"
      ],
      "metadata": {
        "colab": {
          "base_uri": "https://localhost:8080/"
        },
        "id": "WD7TE6DT84xz",
        "outputId": "719270cd-9a58-4e74-ac7d-45678c39074f"
      },
      "execution_count": null,
      "outputs": [
        {
          "output_type": "execute_result",
          "data": {
            "text/plain": [
              "(tensor([[1.],\n",
              "         [2.],\n",
              "         [3.],\n",
              "         [4.],\n",
              "         [5.],\n",
              "         [6.],\n",
              "         [7.],\n",
              "         [8.],\n",
              "         [9.]]),\n",
              " torch.Size([9, 1]))"
            ]
          },
          "metadata": {},
          "execution_count": 55
        }
      ]
    },
    {
      "cell_type": "code",
      "source": [
        "torch.permute(x_reshaped, (0, 1))"
      ],
      "metadata": {
        "colab": {
          "base_uri": "https://localhost:8080/"
        },
        "id": "bdwuslYj9kGI",
        "outputId": "bc44cd9e-55a4-4667-c52f-9d019396dcae"
      },
      "execution_count": null,
      "outputs": [
        {
          "output_type": "execute_result",
          "data": {
            "text/plain": [
              "tensor([[1.],\n",
              "        [2.],\n",
              "        [3.],\n",
              "        [4.],\n",
              "        [5.],\n",
              "        [6.],\n",
              "        [7.],\n",
              "        [8.],\n",
              "        [9.]])"
            ]
          },
          "metadata": {},
          "execution_count": 56
        }
      ]
    },
    {
      "cell_type": "code",
      "source": [
        "x_picture = torch.rand(size=(224, 224, 3))\n",
        "x_picture"
      ],
      "metadata": {
        "colab": {
          "base_uri": "https://localhost:8080/"
        },
        "id": "2RWOexzE-IuR",
        "outputId": "58e49e67-d379-48fa-9335-49f057d60e25"
      },
      "execution_count": null,
      "outputs": [
        {
          "output_type": "execute_result",
          "data": {
            "text/plain": [
              "tensor([[[0.7310, 0.3933, 0.4060],\n",
              "         [0.9445, 0.5929, 0.7140],\n",
              "         [0.4513, 0.0085, 0.7446],\n",
              "         ...,\n",
              "         [0.8503, 0.6518, 0.7272],\n",
              "         [0.2163, 0.0150, 0.4963],\n",
              "         [0.1832, 0.4742, 0.7256]],\n",
              "\n",
              "        [[0.9371, 0.8266, 0.3173],\n",
              "         [0.6624, 0.5888, 0.4558],\n",
              "         [0.7446, 0.1424, 0.4281],\n",
              "         ...,\n",
              "         [0.8143, 0.3738, 0.4516],\n",
              "         [0.7879, 0.3231, 0.9530],\n",
              "         [0.4759, 0.9793, 0.4647]],\n",
              "\n",
              "        [[0.0506, 0.6990, 0.6266],\n",
              "         [0.6982, 0.9570, 0.3329],\n",
              "         [0.8172, 0.9221, 0.1327],\n",
              "         ...,\n",
              "         [0.1861, 0.1121, 0.9572],\n",
              "         [0.0993, 0.3994, 0.8652],\n",
              "         [0.4003, 0.4344, 0.0240]],\n",
              "\n",
              "        ...,\n",
              "\n",
              "        [[0.3451, 0.3407, 0.0827],\n",
              "         [0.4651, 0.7048, 0.0165],\n",
              "         [0.9113, 0.3700, 0.4169],\n",
              "         ...,\n",
              "         [0.3272, 0.4366, 0.7566],\n",
              "         [0.4150, 0.2942, 0.0574],\n",
              "         [0.0941, 0.1679, 0.3886]],\n",
              "\n",
              "        [[0.5309, 0.8745, 0.4964],\n",
              "         [0.5055, 0.9513, 0.1389],\n",
              "         [0.2319, 0.2826, 0.7372],\n",
              "         ...,\n",
              "         [0.1531, 0.4695, 0.4368],\n",
              "         [0.8082, 0.7501, 0.4802],\n",
              "         [0.2763, 0.2643, 0.3635]],\n",
              "\n",
              "        [[0.7021, 0.4327, 0.1880],\n",
              "         [0.8557, 0.9337, 0.0956],\n",
              "         [0.9632, 0.9054, 0.0310],\n",
              "         ...,\n",
              "         [0.0714, 0.1495, 0.0795],\n",
              "         [0.1450, 0.4182, 0.9993],\n",
              "         [0.0844, 0.4478, 0.3244]]])"
            ]
          },
          "metadata": {},
          "execution_count": 57
        }
      ]
    },
    {
      "cell_type": "code",
      "source": [
        "torch.permute(x_picture, (2, 0, 1))"
      ],
      "metadata": {
        "colab": {
          "base_uri": "https://localhost:8080/"
        },
        "id": "EQPruHDA-RJn",
        "outputId": "b92c5bcd-5fe2-4096-c2cb-ec0142d4e996"
      },
      "execution_count": null,
      "outputs": [
        {
          "output_type": "execute_result",
          "data": {
            "text/plain": [
              "tensor([[[0.7310, 0.9445, 0.4513,  ..., 0.8503, 0.2163, 0.1832],\n",
              "         [0.9371, 0.6624, 0.7446,  ..., 0.8143, 0.7879, 0.4759],\n",
              "         [0.0506, 0.6982, 0.8172,  ..., 0.1861, 0.0993, 0.4003],\n",
              "         ...,\n",
              "         [0.3451, 0.4651, 0.9113,  ..., 0.3272, 0.4150, 0.0941],\n",
              "         [0.5309, 0.5055, 0.2319,  ..., 0.1531, 0.8082, 0.2763],\n",
              "         [0.7021, 0.8557, 0.9632,  ..., 0.0714, 0.1450, 0.0844]],\n",
              "\n",
              "        [[0.3933, 0.5929, 0.0085,  ..., 0.6518, 0.0150, 0.4742],\n",
              "         [0.8266, 0.5888, 0.1424,  ..., 0.3738, 0.3231, 0.9793],\n",
              "         [0.6990, 0.9570, 0.9221,  ..., 0.1121, 0.3994, 0.4344],\n",
              "         ...,\n",
              "         [0.3407, 0.7048, 0.3700,  ..., 0.4366, 0.2942, 0.1679],\n",
              "         [0.8745, 0.9513, 0.2826,  ..., 0.4695, 0.7501, 0.2643],\n",
              "         [0.4327, 0.9337, 0.9054,  ..., 0.1495, 0.4182, 0.4478]],\n",
              "\n",
              "        [[0.4060, 0.7140, 0.7446,  ..., 0.7272, 0.4963, 0.7256],\n",
              "         [0.3173, 0.4558, 0.4281,  ..., 0.4516, 0.9530, 0.4647],\n",
              "         [0.6266, 0.3329, 0.1327,  ..., 0.9572, 0.8652, 0.0240],\n",
              "         ...,\n",
              "         [0.0827, 0.0165, 0.4169,  ..., 0.7566, 0.0574, 0.3886],\n",
              "         [0.4964, 0.1389, 0.7372,  ..., 0.4368, 0.4802, 0.3635],\n",
              "         [0.1880, 0.0956, 0.0310,  ..., 0.0795, 0.9993, 0.3244]]])"
            ]
          },
          "metadata": {},
          "execution_count": 58
        }
      ]
    },
    {
      "cell_type": "markdown",
      "source": [
        "Indexing (similar to NumPy)"
      ],
      "metadata": {
        "id": "lg-bjqfsBrgM"
      }
    },
    {
      "cell_type": "code",
      "source": [
        "import torch\n",
        "x = torch.arange(1, 10).reshape(1, 3, 3)\n",
        "x, x.shape"
      ],
      "metadata": {
        "colab": {
          "base_uri": "https://localhost:8080/"
        },
        "id": "SSNC8_p0BtMb",
        "outputId": "91a6a21d-97b5-4fd3-8f31-5e3c7ba1dee6"
      },
      "execution_count": null,
      "outputs": [
        {
          "output_type": "execute_result",
          "data": {
            "text/plain": [
              "(tensor([[[1, 2, 3],\n",
              "          [4, 5, 6],\n",
              "          [7, 8, 9]]]),\n",
              " torch.Size([1, 3, 3]))"
            ]
          },
          "metadata": {},
          "execution_count": 59
        }
      ]
    },
    {
      "cell_type": "code",
      "source": [
        "x[0, 0]"
      ],
      "metadata": {
        "colab": {
          "base_uri": "https://localhost:8080/"
        },
        "id": "awtbFnIsB0f9",
        "outputId": "0c7610b1-2a63-41a7-e1b4-3c3a6beaaa6a"
      },
      "execution_count": null,
      "outputs": [
        {
          "output_type": "execute_result",
          "data": {
            "text/plain": [
              "tensor([1, 2, 3])"
            ]
          },
          "metadata": {},
          "execution_count": 60
        }
      ]
    },
    {
      "cell_type": "code",
      "source": [
        "x[0, 0, 0]"
      ],
      "metadata": {
        "colab": {
          "base_uri": "https://localhost:8080/"
        },
        "id": "5yPtELU8B0h9",
        "outputId": "116e0775-d05f-44d9-8bfb-6a9d384a3367"
      },
      "execution_count": null,
      "outputs": [
        {
          "output_type": "execute_result",
          "data": {
            "text/plain": [
              "tensor(1)"
            ]
          },
          "metadata": {},
          "execution_count": 61
        }
      ]
    },
    {
      "cell_type": "code",
      "source": [
        "x[0, 2, 2]"
      ],
      "metadata": {
        "colab": {
          "base_uri": "https://localhost:8080/"
        },
        "id": "0_fQQycgB0kO",
        "outputId": "af735b2d-ff27-49d1-fe9d-b9037471e457"
      },
      "execution_count": null,
      "outputs": [
        {
          "output_type": "execute_result",
          "data": {
            "text/plain": [
              "tensor(9)"
            ]
          },
          "metadata": {},
          "execution_count": 62
        }
      ]
    },
    {
      "cell_type": "code",
      "source": [
        "x[:, :, 1]"
      ],
      "metadata": {
        "colab": {
          "base_uri": "https://localhost:8080/"
        },
        "id": "YGT5j7YwJLao",
        "outputId": "2a159e96-dd01-4e4f-dad4-fe5851130a4a"
      },
      "execution_count": null,
      "outputs": [
        {
          "output_type": "execute_result",
          "data": {
            "text/plain": [
              "tensor([[2, 5, 8]])"
            ]
          },
          "metadata": {},
          "execution_count": 63
        }
      ]
    },
    {
      "cell_type": "markdown",
      "source": [
        "PyTorch and NumPy:\n",
        "* torch.from_numpy(ndarray)\n",
        "* torch.Tensor.numpy()\n",
        "\n",
        "---\n",
        "\n"
      ],
      "metadata": {
        "id": "Mu0Lv2ThYJPd"
      }
    },
    {
      "cell_type": "code",
      "source": [
        "import torch\n",
        "import numpy as np\n",
        "array = np.arange(1.0, 8.0)\n",
        "tensor = torch.from_numpy(array) # when converting from numpy to pytorch pytorch reflects numpy datatype which is float 64\n",
        "array, tensor"
      ],
      "metadata": {
        "colab": {
          "base_uri": "https://localhost:8080/"
        },
        "id": "gt-_VH5tYLBX",
        "outputId": "e33a5bc6-512c-499d-9bd8-e4cdeef33608"
      },
      "execution_count": null,
      "outputs": [
        {
          "output_type": "execute_result",
          "data": {
            "text/plain": [
              "(array([1., 2., 3., 4., 5., 6., 7.]),\n",
              " tensor([1., 2., 3., 4., 5., 6., 7.], dtype=torch.float64))"
            ]
          },
          "metadata": {},
          "execution_count": 64
        }
      ]
    },
    {
      "cell_type": "code",
      "source": [
        "array.dtype"
      ],
      "metadata": {
        "colab": {
          "base_uri": "https://localhost:8080/"
        },
        "id": "7-6uAEnhYzyW",
        "outputId": "9079c969-c861-4c54-ff2a-24e170b8ba43"
      },
      "execution_count": null,
      "outputs": [
        {
          "output_type": "execute_result",
          "data": {
            "text/plain": [
              "dtype('float64')"
            ]
          },
          "metadata": {},
          "execution_count": 65
        }
      ]
    },
    {
      "cell_type": "code",
      "source": [
        "array = array + 1\n",
        "array, tensor # tensor doesn't change"
      ],
      "metadata": {
        "colab": {
          "base_uri": "https://localhost:8080/"
        },
        "id": "a1e59wvsZJZC",
        "outputId": "761203bf-c892-4fd6-b624-743bc5bfb8a4"
      },
      "execution_count": null,
      "outputs": [
        {
          "output_type": "execute_result",
          "data": {
            "text/plain": [
              "(array([3., 4., 5., 6., 7., 8., 9.]),\n",
              " tensor([1., 2., 3., 4., 5., 6., 7.], dtype=torch.float64))"
            ]
          },
          "metadata": {},
          "execution_count": 67
        }
      ]
    },
    {
      "cell_type": "code",
      "source": [
        "tensor = torch.ones(7)\n",
        "numpy_tensor = tensor.numpy()\n",
        "tensor, numpy_tensor"
      ],
      "metadata": {
        "colab": {
          "base_uri": "https://localhost:8080/"
        },
        "id": "xBSacpU2Z472",
        "outputId": "ecda9bda-fc36-4427-c59c-a73c3566e05b"
      },
      "execution_count": null,
      "outputs": [
        {
          "output_type": "execute_result",
          "data": {
            "text/plain": [
              "(tensor([1., 1., 1., 1., 1., 1., 1.]),\n",
              " array([1., 1., 1., 1., 1., 1., 1.], dtype=float32))"
            ]
          },
          "metadata": {},
          "execution_count": 68
        }
      ]
    },
    {
      "cell_type": "code",
      "source": [
        "tensor = tensor + 1\n",
        "tensor, numpy_tensor"
      ],
      "metadata": {
        "colab": {
          "base_uri": "https://localhost:8080/"
        },
        "id": "tXLFG34baIAZ",
        "outputId": "aa4e1b0f-5652-4217-8589-3f7a97aa2e1d"
      },
      "execution_count": null,
      "outputs": [
        {
          "output_type": "execute_result",
          "data": {
            "text/plain": [
              "(tensor([2., 2., 2., 2., 2., 2., 2.]),\n",
              " array([1., 1., 1., 1., 1., 1., 1.], dtype=float32))"
            ]
          },
          "metadata": {},
          "execution_count": 69
        }
      ]
    },
    {
      "cell_type": "markdown",
      "source": [
        "Reproducibility:\n",
        "* in short how a neural network learns: start w/ random numbers -> tensor operations -> update random numbers to try to make better representation of data -> repeat\n",
        "* to reduce randomness we need random seeds\n",
        "\n"
      ],
      "metadata": {
        "id": "f1bFa2B8azKo"
      }
    },
    {
      "cell_type": "code",
      "source": [
        "import torch\n",
        "random_tensor_A = torch.rand(3, 4)\n",
        "random_tensor_B = torch.rand(3, 4)\n",
        "print(random_tensor_A)\n",
        "print(random_tensor_B)\n",
        "print(random_tensor_A == random_tensor_B)"
      ],
      "metadata": {
        "colab": {
          "base_uri": "https://localhost:8080/"
        },
        "id": "_bmF3e_Pa1zg",
        "outputId": "bf38aa73-0b2f-4475-d7a2-a57aab53e288"
      },
      "execution_count": null,
      "outputs": [
        {
          "output_type": "stream",
          "name": "stdout",
          "text": [
            "tensor([[0.3479, 0.2256, 0.5268, 0.3819],\n",
            "        [0.1843, 0.9670, 0.5238, 0.1618],\n",
            "        [0.2710, 0.0501, 0.9826, 0.2669]])\n",
            "tensor([[0.7376, 0.8406, 0.4714, 0.8382],\n",
            "        [0.8765, 0.0554, 0.1683, 0.4691],\n",
            "        [0.9205, 0.3197, 0.7092, 0.4026]])\n",
            "tensor([[False, False, False, False],\n",
            "        [False, False, False, False],\n",
            "        [False, False, False, False]])\n"
          ]
        }
      ]
    },
    {
      "cell_type": "code",
      "source": [
        "import torch\n",
        "\n",
        "RANDOM_SEED = 42\n",
        "torch.manual_seed(RANDOM_SEED)\n",
        "random_tensor_C = torch.rand(3, 4)\n",
        "\n",
        "torch.manual_seed(RANDOM_SEED)\n",
        "random_tensor_D = torch.rand(3, 4)\n",
        "print(random_tensor_C == random_tensor_D)\n"
      ],
      "metadata": {
        "colab": {
          "base_uri": "https://localhost:8080/"
        },
        "id": "Mq2aXFG0bdni",
        "outputId": "1ef5bdfd-46c2-42b8-8ad9-28f0284d44dd"
      },
      "execution_count": null,
      "outputs": [
        {
          "output_type": "stream",
          "name": "stdout",
          "text": [
            "tensor([[True, True, True, True],\n",
            "        [True, True, True, True],\n",
            "        [True, True, True, True]])\n"
          ]
        }
      ]
    },
    {
      "cell_type": "markdown",
      "source": [
        "Running tensors on GPUs"
      ],
      "metadata": {
        "id": "pC2uJN_CjWEm"
      }
    },
    {
      "cell_type": "code",
      "source": [
        "!nvidia-smi"
      ],
      "metadata": {
        "colab": {
          "base_uri": "https://localhost:8080/"
        },
        "id": "5V8K1BS4jcNB",
        "outputId": "bd227304-fe46-4c5c-aec1-a907d5d3e3f6"
      },
      "execution_count": null,
      "outputs": [
        {
          "output_type": "stream",
          "name": "stdout",
          "text": [
            "/bin/bash: line 1: nvidia-smi: command not found\n"
          ]
        }
      ]
    },
    {
      "cell_type": "code",
      "source": [
        "import torch\n",
        "torch.cuda.is_available()"
      ],
      "metadata": {
        "colab": {
          "base_uri": "https://localhost:8080/"
        },
        "id": "mUVHvd5BlmC6",
        "outputId": "1d214310-4cf6-4ac1-dacf-0ed37cd18002"
      },
      "execution_count": null,
      "outputs": [
        {
          "output_type": "execute_result",
          "data": {
            "text/plain": [
              "False"
            ]
          },
          "metadata": {},
          "execution_count": 75
        }
      ]
    },
    {
      "cell_type": "markdown",
      "source": [
        "Setup device agnostic code"
      ],
      "metadata": {
        "id": "9wYAMzkQl1Pn"
      }
    },
    {
      "cell_type": "code",
      "source": [
        "device= \"cuda\" if torch.cuda.is_available() else \"cpu\"\n",
        "device"
      ],
      "metadata": {
        "colab": {
          "base_uri": "https://localhost:8080/",
          "height": 35
        },
        "id": "CdxnREoWl32R",
        "outputId": "ad8af34d-169d-432f-83e9-60a070a73c89"
      },
      "execution_count": null,
      "outputs": [
        {
          "output_type": "execute_result",
          "data": {
            "text/plain": [
              "'cpu'"
            ],
            "application/vnd.google.colaboratory.intrinsic+json": {
              "type": "string"
            }
          },
          "metadata": {},
          "execution_count": 76
        }
      ]
    },
    {
      "cell_type": "code",
      "source": [
        "torch.cuda.device_count()"
      ],
      "metadata": {
        "colab": {
          "base_uri": "https://localhost:8080/"
        },
        "id": "N2sNYjgzmAsC",
        "outputId": "e8fd9336-cb42-4ed6-c3a0-37c6a3fbf330"
      },
      "execution_count": null,
      "outputs": [
        {
          "output_type": "execute_result",
          "data": {
            "text/plain": [
              "0"
            ]
          },
          "metadata": {},
          "execution_count": 78
        }
      ]
    },
    {
      "cell_type": "markdown",
      "source": [
        "How to put tensors on a GPU"
      ],
      "metadata": {
        "id": "s8GEaibqnHsH"
      }
    },
    {
      "cell_type": "code",
      "source": [
        "tensor = torch.tensor([1, 2, 3], device=\"cpu\")\n",
        "print(tensor, tensor.device)"
      ],
      "metadata": {
        "colab": {
          "base_uri": "https://localhost:8080/"
        },
        "id": "k6mrI7gAnJXP",
        "outputId": "5a407d9d-aeab-40a4-9079-c078d4c36441"
      },
      "execution_count": null,
      "outputs": [
        {
          "output_type": "stream",
          "name": "stdout",
          "text": [
            "tensor([1, 2, 3]) cpu\n"
          ]
        }
      ]
    },
    {
      "cell_type": "code",
      "source": [
        "tensor_on_gpu = tensor.to(device)\n",
        "tensor_on_gpu"
      ],
      "metadata": {
        "colab": {
          "base_uri": "https://localhost:8080/"
        },
        "id": "NI4cYv9Mncmx",
        "outputId": "2afb7a69-9072-49aa-8835-e7871df78b57"
      },
      "execution_count": null,
      "outputs": [
        {
          "output_type": "execute_result",
          "data": {
            "text/plain": [
              "tensor([1, 2, 3])"
            ]
          },
          "metadata": {},
          "execution_count": 81
        }
      ]
    },
    {
      "cell_type": "markdown",
      "source": [
        "Tensors on GPU can't be transformed to NumPy"
      ],
      "metadata": {
        "id": "bPEQuAGaoXCJ"
      }
    },
    {
      "cell_type": "code",
      "source": [
        "tensor_on_cpu = tensor_on_gpu.cpu().numpy()\n",
        "tensor_on_cpu"
      ],
      "metadata": {
        "colab": {
          "base_uri": "https://localhost:8080/"
        },
        "id": "f_KKCHRBobWw",
        "outputId": "4a9496ac-215f-428d-95a6-a39f0a359ee4"
      },
      "execution_count": null,
      "outputs": [
        {
          "output_type": "execute_result",
          "data": {
            "text/plain": [
              "array([1, 2, 3])"
            ]
          },
          "metadata": {},
          "execution_count": 84
        }
      ]
    }
  ]
}